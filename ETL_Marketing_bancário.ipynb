{
  "nbformat": 4,
  "nbformat_minor": 0,
  "metadata": {
    "colab": {
      "provenance": [],
      "authorship_tag": "ABX9TyNd1tSJj18Z1YQWuyvrVxaw",
      "include_colab_link": true
    },
    "kernelspec": {
      "name": "python3",
      "display_name": "Python 3"
    },
    "language_info": {
      "name": "python"
    }
  },
  "cells": [
    {
      "cell_type": "markdown",
      "metadata": {
        "id": "view-in-github",
        "colab_type": "text"
      },
      "source": [
        "<a href=\"https://colab.research.google.com/github/Norphia/dio-ETL-marketing-bancario/blob/main/ETL_Marketing_banc%C3%A1rio.ipynb\" target=\"_parent\"><img src=\"https://colab.research.google.com/assets/colab-badge.svg\" alt=\"Open In Colab\"/></a>"
      ]
    },
    {
      "cell_type": "markdown",
      "source": [
        "\n",
        "# Extract"
      ],
      "metadata": {
        "id": "VwOUmKIbBwYb"
      }
    },
    {
      "cell_type": "code",
      "execution_count": 20,
      "metadata": {
        "colab": {
          "base_uri": "https://localhost:8080/"
        },
        "id": "WFm2HqbdBuaV",
        "outputId": "4bf0f536-4dfd-4ce0-fd8c-105b64e0670b"
      },
      "outputs": [
        {
          "output_type": "stream",
          "name": "stdout",
          "text": [
            "   ID       nome       sexo  idade   conta saldo investidor\n",
            "0   1   Patricia   Feminino     22  0000-1  ****        Não\n",
            "1   2  Guilherme  Masculino     19  0000-2  ****        Não\n",
            "2   3      Fabio  Masculino     33  0000-3  ****        Sim\n",
            "\n",
            "\n",
            "[1, 2, 3]\n"
          ]
        }
      ],
      "source": [
        "import pandas as pd\n",
        "\n",
        "df = pd.read_csv('/content/BD - Banco - Página1.csv')\n",
        "print(df)\n",
        "\n",
        "print('\\n')\n",
        "\n",
        "user_id = df['ID'].tolist()\n",
        "print(user_id)"
      ]
    },
    {
      "cell_type": "markdown",
      "source": [
        "# Transform"
      ],
      "metadata": {
        "id": "rYJq6-1yHhOW"
      }
    },
    {
      "cell_type": "code",
      "source": [
        "import random\n",
        "\n",
        "def generate_sort_text(id):\n",
        "  frases = [\n",
        "      \"Invista no seu futuro financeiro: os investimentos são a chave para alcançar seus objetivos financeiros de longo prazo. #FinançasPessoais\",\n",
        "      \"Invista no seu futuro financeiro: os investimentos são o caminho para o crescimento e a segurança financeira. #InvestimentoÉChave\",\n",
        "      \"Invista hoje para garantir seu amanhã financeiro. Não espere, comece agora! #Investimentos #SegurançaFinanceira\",\n",
        "      \"Invista com segurança e aumente seu patrimônio. Consulte nossas opções de investimento hoje mesmo!\",\n",
        "      \"Potencialize seu dinheiro com nossos investimentos bancários. Cresça financeiramente conosco!\",\n",
        "      \"Investir no banco: seu futuro seguro!\"\n",
        "  ]\n",
        "  mensagem = random.choice(frases)\n",
        "  return mensagem\n",
        "\n",
        "for id in user_id:\n",
        "  df[\"mensagem\"] = generate_sort_text(id)\n",
        "\n"
      ],
      "metadata": {
        "id": "KJjXpcK7L0KA"
      },
      "execution_count": 27,
      "outputs": []
    },
    {
      "cell_type": "markdown",
      "source": [
        "# Load"
      ],
      "metadata": {
        "id": "qcDnykCGX0Ta"
      }
    },
    {
      "cell_type": "code",
      "source": [
        "df.to_csv(\"investimento.csv\")"
      ],
      "metadata": {
        "id": "lsUgyBllX4ZB"
      },
      "execution_count": 28,
      "outputs": []
    }
  ]
}